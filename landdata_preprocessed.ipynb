{
 "cells": [
  {
   "cell_type": "code",
   "execution_count": 1,
   "metadata": {},
   "outputs": [],
   "source": [
    "import pandas as pd\n",
    "import numpy as np\n",
    "import matplotlib.pyplot as plt\n",
    "import seaborn as sns\n",
    "import os, gc, re, time\n",
    "import tqdm as tqdm\n",
    "import warnings\n",
    "pd.set_option(\"max_columns\",None)\n",
    "warnings.filterwarnings('ignore')"
   ]
  },
  {
   "cell_type": "code",
   "execution_count": 2,
   "metadata": {},
   "outputs": [],
   "source": [
    "train = pd.read_csv(\"train.csv\")\n",
    "test = pd.read_csv(\"test.csv\")\n",
    "add = pd.read_csv(\"published_land_price.csv\")"
   ]
  },
  {
   "cell_type": "code",
   "execution_count": 3,
   "metadata": {},
   "outputs": [
    {
     "data": {
      "text/plain": [
       "Index(['Ｓ５８価格', 'Ｓ５９価格', 'Ｓ６０価格', 'Ｓ６１価格', 'Ｓ６２価格', 'Ｓ６３価格', 'Ｈ１価格', 'Ｈ２価格',\n",
       "       'Ｈ３価格', 'Ｈ４価格', 'Ｈ５価格', 'Ｈ６価格', 'Ｈ７価格', 'Ｈ８価格', 'Ｈ９価格', 'Ｈ１０価格',\n",
       "       'Ｈ１１価格', 'Ｈ１２価格', 'Ｈ１３価格', 'Ｈ１４価格', 'Ｈ１５価格', 'Ｈ１６価格', 'Ｈ１７価格', 'Ｈ１８価格',\n",
       "       'Ｈ１９価格', 'Ｈ２０価格', 'Ｈ２１価格', 'Ｈ２２価格', 'Ｈ２３価格', 'Ｈ２４価格', 'Ｈ２５価格', 'Ｈ２６価格',\n",
       "       'Ｈ２７価格', 'Ｈ２８価格', 'Ｈ２９価格', 'Ｈ３０価格', 'Ｈ３１価格', '属性移動Ｓ５９', '属性移動Ｓ６０',\n",
       "       '属性移動Ｓ６１', '属性移動Ｓ６２', '属性移動Ｓ６３', '属性移動Ｈ１', '属性移動Ｈ２', '属性移動Ｈ３', '属性移動Ｈ４',\n",
       "       '属性移動Ｈ５', '属性移動Ｈ６', '属性移動Ｈ７', '属性移動Ｈ８', '属性移動Ｈ９', '属性移動Ｈ１０', '属性移動Ｈ１１',\n",
       "       '属性移動Ｈ１２', '属性移動Ｈ１３', '属性移動Ｈ１４', '属性移動Ｈ１５', '属性移動Ｈ１６', '属性移動Ｈ１７',\n",
       "       '属性移動Ｈ１８', '属性移動Ｈ１９', '属性移動Ｈ２０', '属性移動Ｈ２１', '属性移動Ｈ２２', '属性移動Ｈ２３',\n",
       "       '属性移動Ｈ２４', '属性移動Ｈ２５', '属性移動Ｈ２６', '属性移動Ｈ２７', '属性移動Ｈ２８', '属性移動Ｈ２９',\n",
       "       '属性移動Ｈ３０', '属性移動Ｈ３１'],\n",
       "      dtype='object')"
      ]
     },
     "execution_count": 3,
     "metadata": {},
     "output_type": "execute_result"
    }
   ],
   "source": [
    "add.columns[43:]"
   ]
  },
  {
   "cell_type": "code",
   "execution_count": 4,
   "metadata": {},
   "outputs": [],
   "source": [
    "rename_dict1 = {'経度':\"Longitude\", \"緯度\":\"Latitude\", \"所在地コード\":\"Adress_code\", \"用途\":\"Use\", \"連番\":\"Serial_number\"}"
   ]
  },
  {
   "cell_type": "code",
   "execution_count": 5,
   "metadata": {},
   "outputs": [],
   "source": [
    "rename_dict1 = {'経度':\"Longitude\", \"緯度\":\"Latitude\", \"所在地コード\":\"Adress_code\", \"用途\":\"Use\", \"連番\":\"Serial_number\",\n",
    "                \"年次\":\"Year\", \"前年所在地コード\":\"Before_adress_code\", \"前年用途\":\"Before_use\", \"前年連番\":\"Before_serial_number\"}\n",
    "\n",
    "rename_dict2 = {'市区町村名':\"Municipality\", \"住居表示\":\"Adress\", \"行政\":\"Administration\", \"地積\":\"Area\", \"利用の現況\":\"Current_usage\",\n",
    "                \"利用状況表示\":\"Current_usage_text\", \"建物構造\":\"Structure\", \"施設\":\"Infrastructure\", \"形状区分\":\"Shape\",\n",
    "               \"間口（比率）\":\"Frontage\"}\n",
    "\n",
    "rename_dict3 = {'奥行（比率）':\"Depth\", \"階層（地上）\":\"Hierarchy_surface\", \"階層（地下）\":\"Hierarchy_under\",\n",
    "                \"前面道路区分\":\"Front_road\", \"前面道路の方位区分\":\"Front_road_direction\", \"前面道路の幅員\":\"Front_road_width\",\n",
    "                \"前面道路の駅前区分\":\"Front_road_station\", \"前面道路の舗装状況\":\"Front_road_state\", \"側道区分\":\"Side_road_state\"}\n",
    "\n",
    "rename_dict4 = {'側道方位区分':\"Side_road_direction\", \"交通施設との近接区分\":\"Proximity_traffic\",\n",
    "                \"周辺の土地の利用の現況\":\"Surround_usage\", \"駅名\":\"Station\", \"駅距離\":\"Station_distance\", \n",
    "                \"用途区分\":\"Usage_Classification\", \"防火区分\":\"Fire_classification\", \"都市計画区分\":\"CityPlanning_classification\",\n",
    "                \"森林区分\":\"Forest_classification\", \"公園区分\":\"Park_classification\", \"建蔽率\":\"Coverage\"}\n",
    "\n",
    "rename_dict5 = {'容積率':\"Volume\", \"共通地点区分\":\"Common_classification\", \"選定年次ビット\":\"Year_bid\"}"
   ]
  },
  {
   "cell_type": "code",
   "execution_count": 6,
   "metadata": {
    "scrolled": true
   },
   "outputs": [],
   "source": [
    "cols = ['Ｓ５８価格', 'Ｓ５９価格', 'Ｓ６０価格', 'Ｓ６１価格', 'Ｓ６２価格', 'Ｓ６３価格']\n",
    "cols2 = ['Ｈ１価格', 'Ｈ２価格','Ｈ３価格', 'Ｈ４価格', 'Ｈ５価格', 'Ｈ６価格', 'Ｈ７価格', 'Ｈ８価格', 'Ｈ９価格', 'Ｈ１０価格',\n",
    "         'Ｈ１１価格', 'Ｈ１２価格', 'Ｈ１３価格', 'Ｈ１４価格', 'Ｈ１５価格', 'Ｈ１６価格', 'Ｈ１７価格', 'Ｈ１８価格',\n",
    "         'Ｈ１９価格', 'Ｈ２０価格', 'Ｈ２１価格', 'Ｈ２２価格', 'Ｈ２３価格', 'Ｈ２４価格', 'Ｈ２５価格', 'Ｈ２６価格',\n",
    "         'Ｈ２７価格', 'Ｈ２８価格', 'Ｈ２９価格', 'Ｈ３０価格', 'Ｈ３１価格']\n",
    "cols3 = ['属性移動Ｓ５９', '属性移動Ｓ６０', '属性移動Ｓ６１', '属性移動Ｓ６２', '属性移動Ｓ６３']\n",
    "cols4 = ['属性移動Ｈ１', '属性移動Ｈ２', '属性移動Ｈ３', '属性移動Ｈ４', '属性移動Ｈ５', '属性移動Ｈ６',\n",
    "         '属性移動Ｈ７', '属性移動Ｈ８', '属性移動Ｈ９', '属性移動Ｈ１０', '属性移動Ｈ１１', '属性移動Ｈ１２',\n",
    "         '属性移動Ｈ１３', '属性移動Ｈ１４', '属性移動Ｈ１５', '属性移動Ｈ１６', '属性移動Ｈ１７','属性移動Ｈ１８', '属性移動Ｈ１９',\n",
    "         '属性移動Ｈ２０', '属性移動Ｈ２１', '属性移動Ｈ２２', '属性移動Ｈ２３', '属性移動Ｈ２４', '属性移動Ｈ２５',\n",
    "         '属性移動Ｈ２６', '属性移動Ｈ２７', '属性移動Ｈ２８', '属性移動Ｈ２９', '属性移動Ｈ３０', '属性移動Ｈ３１']\n",
    "rename_price = {}\n",
    "\n",
    "for i, c in enumerate(cols):\n",
    "    rename_price[c] = \"S\"+str(i+58)+\"_Price\"\n",
    "for i, c in enumerate(cols2):\n",
    "    rename_price[c] = \"H\"+str(i+1)+\"_Price\"\n",
    "for i, c in enumerate(cols3):\n",
    "    rename_price[c] = \"S\"+str(i+59)+\"_Attribute\"\n",
    "for i, c in enumerate(cols4):\n",
    "    rename_price[c] = \"H\"+str(i+1)+\"_Attribute\""
   ]
  },
  {
   "cell_type": "code",
   "execution_count": 7,
   "metadata": {},
   "outputs": [],
   "source": [
    "add = add.rename(columns=rename_dict1)\n",
    "add = add.rename(columns=rename_dict2)\n",
    "add = add.rename(columns=rename_dict3)\n",
    "add = add.rename(columns=rename_dict4)\n",
    "add = add.rename(columns=rename_dict5)\n",
    "add = add.rename(columns=rename_price)"
   ]
  },
  {
   "cell_type": "code",
   "execution_count": 8,
   "metadata": {},
   "outputs": [],
   "source": [
    "add[\"Adress\"] = add[\"Adress\"].apply(lambda x: re.sub(\"１\",\"1\",x))\n",
    "add[\"Adress\"] = add[\"Adress\"].apply(lambda x: re.sub(\"２\",\"2\",x))\n",
    "add[\"Adress\"] = add[\"Adress\"].apply(lambda x: re.sub(\"３\",\"3\",x))\n",
    "add[\"Adress\"] = add[\"Adress\"].apply(lambda x: re.sub(\"４\",\"4\",x))\n",
    "add[\"Adress\"] = add[\"Adress\"].apply(lambda x: re.sub(\"５\",\"5\",x))\n",
    "add[\"Adress\"] = add[\"Adress\"].apply(lambda x: re.sub(\"６\",\"6\",x))\n",
    "add[\"Adress\"] = add[\"Adress\"].apply(lambda x: re.sub(\"７\",\"7\",x))\n",
    "add[\"Adress\"] = add[\"Adress\"].apply(lambda x: re.sub(\"８\",\"8\",x))\n",
    "add[\"Adress\"] = add[\"Adress\"].apply(lambda x: re.sub(\"９\",\"9\",x))\n",
    "add[\"Adress\"] = add[\"Adress\"].apply(lambda x: re.sub(\"０\",\"0\",x))\n",
    "add[\"Adress\"] = add[\"Adress\"].apply(lambda x: re.sub(\"－\",\"-\",x))"
   ]
  },
  {
   "cell_type": "code",
   "execution_count": 9,
   "metadata": {},
   "outputs": [],
   "source": [
    "add[\"Adress\"] = add[\"Adress\"].apply(lambda x: x.split(\"\\u3000\")[1])\n",
    "add[\"Adress\"] = add[\"Adress\"].apply(lambda x: re.split(\"[0-9]+-\", x, 1)[0])\n",
    "add[\"Adress\"] = add[\"Adress\"].apply(lambda x: re.split(\"[0-9]+番\", x, 1)[0])\n",
    "add[\"Adress\"] = add[\"Adress\"].apply(lambda x: re.split(\"[0-9]\", x, 1)[0])"
   ]
  },
  {
   "cell_type": "code",
   "execution_count": 10,
   "metadata": {},
   "outputs": [],
   "source": [
    "add.to_csv(\"land_price.csv\",index=False)"
   ]
  }
 ],
 "metadata": {
  "kernelspec": {
   "display_name": "Python 3.7",
   "language": "python",
   "name": "python3"
  },
  "language_info": {
   "codemirror_mode": {
    "name": "ipython",
    "version": 3
   },
   "file_extension": ".py",
   "mimetype": "text/x-python",
   "name": "python",
   "nbconvert_exporter": "python",
   "pygments_lexer": "ipython3",
   "version": "3.7.3"
  }
 },
 "nbformat": 4,
 "nbformat_minor": 2
}
